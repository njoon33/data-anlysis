{
  "nbformat": 4,
  "nbformat_minor": 0,
  "metadata": {
    "colab": {
      "provenance": [],
      "toc_visible": true
    },
    "kernelspec": {
      "name": "python3",
      "display_name": "Python 3"
    },
    "language_info": {
      "name": "python"
    }
  },
  "cells": [
    {
      "cell_type": "code",
      "source": [
        "import requests\n",
        "\n",
        "url = \"https://yh-finance.p.rapidapi.com/stock/v2/get-analysis\"\n",
        "\n",
        "querystring = {\"symbol\":\"AMRN\",\"region\":\"US\"}\n",
        "\n",
        "headers = {\n",
        "\t\"X-RapidAPI-Key\": \"53a58bb7eemshd0dfd05833292cap120fc2jsn24484e951f33\",\n",
        "\t\"X-RapidAPI-Host\": \"yh-finance.p.rapidapi.com\"\n",
        "}\n",
        "\n",
        "response = requests.get(url, headers=headers, params=querystring)\n",
        "\n",
        "print(response.json())"
      ],
      "metadata": {
        "colab": {
          "base_uri": "https://localhost:8080/"
        },
        "id": "q2ARs-iTHsA9",
        "outputId": "a15a87bc-3283-421b-91d5-5d10b583e6ba"
      },
      "execution_count": 2,
      "outputs": [
        {
          "output_type": "stream",
          "name": "stdout",
          "text": [
            "{'recommendationTrend': {'trend': [{'period': '0m', 'strongBuy': 2, 'buy': 3, 'hold': 0, 'sell': 0, 'strongSell': 0}, {'period': '-1m', 'strongBuy': 1, 'buy': 1, 'hold': 2, 'sell': 2, 'strongSell': 0}, {'period': '-2m', 'strongBuy': 1, 'buy': 2, 'hold': 2, 'sell': 2, 'strongSell': 0}, {'period': '-3m', 'strongBuy': 2, 'buy': 3, 'hold': 0, 'sell': 0, 'strongSell': 0}], 'maxAge': 86400}, 'financialsTemplate': {'code': 'N', 'maxAge': 1}, 'price': {'quoteSourceName': 'Nasdaq Real Time Price', 'regularMarketOpen': {'raw': 1.15, 'fmt': '1.1500'}, 'averageDailyVolume3Month': {'raw': 2274540, 'fmt': '2.27M', 'longFmt': '2,274,540'}, 'exchange': 'NGM', 'regularMarketTime': 1687982405, 'volume24Hr': {}, 'regularMarketDayHigh': {'raw': 1.17, 'fmt': '1.1700'}, 'shortName': 'Amarin Corporation plc', 'averageDailyVolume10Day': {'raw': 2084130, 'fmt': '2.08M', 'longFmt': '2,084,130'}, 'longName': 'Amarin Corporation plc', 'regularMarketChange': {'raw': -0.03999996, 'fmt': '-0.0400'}, 'currencySymbol': '$', 'regularMarketPreviousClose': {'raw': 1.16, 'fmt': '1.1600'}, 'postMarketTime': 1687996572, 'preMarketPrice': {}, 'exchangeDataDelayedBy': 0, 'toCurrency': None, 'postMarketChange': {'raw': 0.00999999, 'fmt': '0.01'}, 'postMarketPrice': {'raw': 1.13, 'fmt': '1.1300'}, 'exchangeName': 'NasdaqGM', 'preMarketChange': {}, 'circulatingSupply': {}, 'regularMarketDayLow': {'raw': 1.11, 'fmt': '1.1100'}, 'priceHint': {'raw': 4, 'fmt': '4', 'longFmt': '4'}, 'currency': 'USD', 'regularMarketPrice': {'raw': 1.12, 'fmt': '1.1200'}, 'regularMarketVolume': {'raw': 1207854, 'fmt': '1.21M', 'longFmt': '1,207,854.00'}, 'lastMarket': None, 'regularMarketSource': 'FREE_REALTIME', 'openInterest': {}, 'marketState': 'PREPRE', 'underlyingSymbol': None, 'marketCap': {'raw': 456713600, 'fmt': '456.71M', 'longFmt': '456,713,600.00'}, 'quoteType': 'EQUITY', 'volumeAllCurrencies': {}, 'postMarketSource': 'FREE_REALTIME', 'strikePrice': {}, 'symbol': 'AMRN', 'postMarketChangePercent': {'raw': 0.00892856, 'fmt': '0.89%'}, 'preMarketSource': 'FREE_REALTIME', 'maxAge': 1, 'fromCurrency': None, 'regularMarketChangePercent': {'raw': -0.034482725, 'fmt': '-3.45%'}}, 'earningsHistory': {'history': [{'maxAge': 1, 'epsActual': {'raw': -0.18, 'fmt': '-0.18'}, 'epsEstimate': {'raw': -0.06, 'fmt': '-0.06'}, 'epsDifference': {'raw': -0.12, 'fmt': '-0.12'}, 'surprisePercent': {'raw': -2, 'fmt': '-200.00%'}, 'quarter': {'raw': 1656547200, 'fmt': '2022-06-30'}, 'period': '-4q'}, {'maxAge': 1, 'epsActual': {'raw': -0.01, 'fmt': '-0.01'}, 'epsEstimate': {'raw': -0.06, 'fmt': '-0.06'}, 'epsDifference': {'raw': 0.05, 'fmt': '0.05'}, 'surprisePercent': {'raw': 0.833, 'fmt': '83.30%'}, 'quarter': {'raw': 1664496000, 'fmt': '2022-09-30'}, 'period': '-3q'}, {'maxAge': 1, 'epsActual': {'raw': 0, 'fmt': '0'}, 'epsEstimate': {'raw': 0, 'fmt': '0'}, 'epsDifference': {'raw': 0, 'fmt': '0'}, 'surprisePercent': {}, 'quarter': {'raw': 1672444800, 'fmt': '2022-12-31'}, 'period': '-2q'}, {'maxAge': 1, 'epsActual': {'raw': -0.04, 'fmt': '-0.04'}, 'epsEstimate': {'raw': -0.03, 'fmt': '-0.03'}, 'epsDifference': {'raw': -0.01, 'fmt': '-0.01'}, 'surprisePercent': {'raw': -0.333, 'fmt': '-33.30%'}, 'quarter': {'raw': 1680220800, 'fmt': '2023-03-31'}, 'period': '-1q'}], 'maxAge': 86400}, 'indexTrend': {'maxAge': 1, 'symbol': 'SP5', 'peRatio': {'raw': 16.0165, 'fmt': '16.02'}, 'pegRatio': {'raw': 0.734694, 'fmt': '0.73'}, 'estimates': [{'period': '0q', 'growth': {'raw': -0.0069999998, 'fmt': '-0.01'}}, {'period': '+1q', 'growth': {'raw': 0.069, 'fmt': '0.07'}}, {'period': '0y', 'growth': {'raw': 0.01, 'fmt': '0.01'}}, {'period': '+1y', 'growth': {'raw': 0.103, 'fmt': '0.10'}}, {'period': '+5y', 'growth': {'raw': 0.0773139, 'fmt': '0.08'}}, {'period': '-5y', 'growth': {}}]}, 'financialData': {'ebitdaMargins': {'raw': -0.13303, 'fmt': '-13.30%'}, 'profitMargins': {'raw': -0.25157, 'fmt': '-25.16%'}, 'grossMargins': {'raw': 0.68884003, 'fmt': '68.88%'}, 'operatingCashflow': {'raw': -88253000, 'fmt': '-88.25M', 'longFmt': '-88,253,000'}, 'revenueGrowth': {'raw': -0.091, 'fmt': '-9.10%'}, 'operatingMargins': {'raw': -0.14158, 'fmt': '-14.16%'}, 'ebitda': {'raw': -47964000, 'fmt': '-47.96M', 'longFmt': '-47,964,000'}, 'targetLowPrice': {'raw': 1.5, 'fmt': '1.50'}, 'recommendationKey': 'hold', 'grossProfits': {'raw': 260562000, 'fmt': '260.56M', 'longFmt': '260,562,000'}, 'freeCashflow': {'raw': -30330500, 'fmt': '-30.33M', 'longFmt': '-30,330,500'}, 'targetMedianPrice': {'raw': 2, 'fmt': '2.00'}, 'currentPrice': {'raw': 1.12, 'fmt': '1.12'}, 'earningsGrowth': {}, 'currentRatio': {'raw': 2.8, 'fmt': '2.80'}, 'returnOnAssets': {'raw': -0.03479, 'fmt': '-3.48%'}, 'numberOfAnalystOpinions': {'raw': 4, 'fmt': '4', 'longFmt': '4'}, 'targetMeanPrice': {'raw': 2.13, 'fmt': '2.13'}, 'debtToEquity': {'raw': 1.992, 'fmt': '1.99'}, 'returnOnEquity': {'raw': -0.14797, 'fmt': '-14.80%'}, 'targetHighPrice': {'raw': 3, 'fmt': '3.00'}, 'totalCash': {'raw': 304371008, 'fmt': '304.37M', 'longFmt': '304,371,008'}, 'totalDebt': {'raw': 11650000, 'fmt': '11.65M', 'longFmt': '11,650,000'}, 'totalRevenue': {'raw': 360537984, 'fmt': '360.54M', 'longFmt': '360,537,984'}, 'totalCashPerShare': {'raw': 0.786, 'fmt': '0.79'}, 'financialCurrency': 'USD', 'maxAge': 86400, 'revenuePerShare': {'raw': 0.894, 'fmt': '0.89'}, 'quickRatio': {'raw': 1.792, 'fmt': '1.79'}, 'recommendationMean': {'raw': 2.6, 'fmt': '2.60'}}, 'earningsTrend': {'trend': [{'maxAge': 1, 'period': '0q', 'endDate': '2023-06-30', 'growth': {'raw': 0.833, 'fmt': '83.30%'}, 'earningsEstimate': {'avg': {'raw': -0.03, 'fmt': '-0.03'}, 'low': {'raw': -0.04, 'fmt': '-0.04'}, 'high': {'raw': -0.03, 'fmt': '-0.03'}, 'yearAgoEps': {'raw': -0.18, 'fmt': '-0.18'}, 'numberOfAnalysts': {'raw': 4, 'fmt': '4', 'longFmt': '4'}, 'growth': {'raw': 0.833, 'fmt': '83.30%'}}, 'revenueEstimate': {'avg': {'raw': 79580000, 'fmt': '79.58M', 'longFmt': '79,580,000'}, 'low': {'raw': 76400000, 'fmt': '76.4M', 'longFmt': '76,400,000'}, 'high': {'raw': 82250000, 'fmt': '82.25M', 'longFmt': '82,250,000'}, 'numberOfAnalysts': {'raw': 5, 'fmt': '5', 'longFmt': '5'}, 'yearAgoRevenue': {'raw': 94440000, 'fmt': '94.44M', 'longFmt': '94,440,000'}, 'growth': {'raw': -0.157, 'fmt': '-15.70%'}}, 'epsTrend': {'current': {'raw': -0.03, 'fmt': '-0.03'}, '7daysAgo': {'raw': -0.03, 'fmt': '-0.03'}, '30daysAgo': {'raw': -0.03, 'fmt': '-0.03'}, '60daysAgo': {'raw': -0.03, 'fmt': '-0.03'}, '90daysAgo': {'raw': -0.03, 'fmt': '-0.03'}}, 'epsRevisions': {'upLast7days': {'raw': 0, 'fmt': None, 'longFmt': '0'}, 'upLast30days': {'raw': 0, 'fmt': None, 'longFmt': '0'}, 'downLast30days': {'raw': 0, 'fmt': None, 'longFmt': '0'}, 'downLast90days': {}}}, {'maxAge': 1, 'period': '+1q', 'endDate': '2023-09-30', 'growth': {'raw': -3, 'fmt': '-300.00%'}, 'earningsEstimate': {'avg': {'raw': -0.04, 'fmt': '-0.04'}, 'low': {'raw': -0.05, 'fmt': '-0.05'}, 'high': {'raw': -0.04, 'fmt': '-0.04'}, 'yearAgoEps': {'raw': -0.01, 'fmt': '-0.01'}, 'numberOfAnalysts': {'raw': 4, 'fmt': '4', 'longFmt': '4'}, 'growth': {'raw': -3, 'fmt': '-300.00%'}}, 'revenueEstimate': {'avg': {'raw': 76640000, 'fmt': '76.64M', 'longFmt': '76,640,000'}, 'low': {'raw': 74700000, 'fmt': '74.7M', 'longFmt': '74,700,000'}, 'high': {'raw': 81500000, 'fmt': '81.5M', 'longFmt': '81,500,000'}, 'numberOfAnalysts': {'raw': 5, 'fmt': '5', 'longFmt': '5'}, 'yearAgoRevenue': {'raw': 88240000, 'fmt': '88.24M', 'longFmt': '88,240,000'}, 'growth': {'raw': -0.131, 'fmt': '-13.10%'}}, 'epsTrend': {'current': {'raw': -0.04, 'fmt': '-0.04'}, '7daysAgo': {'raw': -0.04, 'fmt': '-0.04'}, '30daysAgo': {'raw': -0.04, 'fmt': '-0.04'}, '60daysAgo': {'raw': -0.04, 'fmt': '-0.04'}, '90daysAgo': {'raw': -0.03, 'fmt': '-0.03'}}, 'epsRevisions': {'upLast7days': {'raw': 0, 'fmt': None, 'longFmt': '0'}, 'upLast30days': {'raw': 0, 'fmt': None, 'longFmt': '0'}, 'downLast30days': {'raw': 0, 'fmt': None, 'longFmt': '0'}, 'downLast90days': {}}}, {'maxAge': 1, 'period': '0y', 'endDate': '2023-12-31', 'growth': {'raw': 0.346, 'fmt': '34.60%'}, 'earningsEstimate': {'avg': {'raw': -0.17, 'fmt': '-0.17'}, 'low': {'raw': -0.18, 'fmt': '-0.18'}, 'high': {'raw': -0.17, 'fmt': '-0.17'}, 'yearAgoEps': {'raw': -0.26, 'fmt': '-0.26'}, 'numberOfAnalysts': {'raw': 4, 'fmt': '4', 'longFmt': '4'}, 'growth': {'raw': 0.346, 'fmt': '34.60%'}}, 'revenueEstimate': {'avg': {'raw': 316280000, 'fmt': '316.28M', 'longFmt': '316,280,000'}, 'low': {'raw': 310100000, 'fmt': '310.1M', 'longFmt': '310,100,000'}, 'high': {'raw': 330220000, 'fmt': '330.22M', 'longFmt': '330,220,000'}, 'numberOfAnalysts': {'raw': 5, 'fmt': '5', 'longFmt': '5'}, 'yearAgoRevenue': {'raw': 369193000, 'fmt': '369.19M', 'longFmt': '369,193,000'}, 'growth': {'raw': -0.143, 'fmt': '-14.30%'}}, 'epsTrend': {'current': {'raw': -0.17, 'fmt': '-0.17'}, '7daysAgo': {'raw': -0.17, 'fmt': '-0.17'}, '30daysAgo': {'raw': -0.17, 'fmt': '-0.17'}, '60daysAgo': {'raw': -0.14, 'fmt': '-0.14'}, '90daysAgo': {'raw': -0.12, 'fmt': '-0.12'}}, 'epsRevisions': {'upLast7days': {'raw': 0, 'fmt': None, 'longFmt': '0'}, 'upLast30days': {'raw': 0, 'fmt': None, 'longFmt': '0'}, 'downLast30days': {'raw': 0, 'fmt': None, 'longFmt': '0'}, 'downLast90days': {}}}, {'maxAge': 1, 'period': '+1y', 'endDate': '2024-12-31', 'growth': {'raw': 0.176, 'fmt': '17.60%'}, 'earningsEstimate': {'avg': {'raw': -0.14, 'fmt': '-0.14'}, 'low': {'raw': -0.3, 'fmt': '-0.3'}, 'high': {'raw': 0.07, 'fmt': '0.07'}, 'yearAgoEps': {'raw': -0.17, 'fmt': '-0.17'}, 'numberOfAnalysts': {'raw': 4, 'fmt': '4', 'longFmt': '4'}, 'growth': {'raw': 0.176, 'fmt': '17.60%'}}, 'revenueEstimate': {'avg': {'raw': 327910000, 'fmt': '327.91M', 'longFmt': '327,910,000'}, 'low': {'raw': 241100000, 'fmt': '241.1M', 'longFmt': '241,100,000'}, 'high': {'raw': 452900000, 'fmt': '452.9M', 'longFmt': '452,900,000'}, 'numberOfAnalysts': {'raw': 4, 'fmt': '4', 'longFmt': '4'}, 'yearAgoRevenue': {'raw': 316280000, 'fmt': '316.28M', 'longFmt': '316,280,000'}, 'growth': {'raw': 0.037, 'fmt': '3.70%'}}, 'epsTrend': {'current': {'raw': -0.14, 'fmt': '-0.14'}, '7daysAgo': {'raw': -0.14, 'fmt': '-0.14'}, '30daysAgo': {'raw': -0.14, 'fmt': '-0.14'}, '60daysAgo': {'raw': -0.14, 'fmt': '-0.14'}, '90daysAgo': {'raw': -0.1, 'fmt': '-0.1'}}, 'epsRevisions': {'upLast7days': {'raw': 0, 'fmt': None, 'longFmt': '0'}, 'upLast30days': {'raw': 0, 'fmt': None, 'longFmt': '0'}, 'downLast30days': {'raw': 0, 'fmt': None, 'longFmt': '0'}, 'downLast90days': {}}}, {'maxAge': 1, 'period': '+5y', 'endDate': None, 'growth': {'raw': 0.38900003, 'fmt': '38.90%'}, 'earningsEstimate': {'avg': {}, 'low': {}, 'high': {}, 'yearAgoEps': {}, 'numberOfAnalysts': {}, 'growth': {}}, 'revenueEstimate': {'avg': {}, 'low': {}, 'high': {}, 'numberOfAnalysts': {}, 'yearAgoRevenue': {}, 'growth': {}}, 'epsTrend': {'current': {}, '7daysAgo': {}, '30daysAgo': {}, '60daysAgo': {}, '90daysAgo': {}}, 'epsRevisions': {'upLast7days': {}, 'upLast30days': {}, 'downLast30days': {}, 'downLast90days': {}}}, {'maxAge': 1, 'period': '-5y', 'endDate': None, 'growth': {'raw': 0.65145, 'fmt': '65.14%'}, 'earningsEstimate': {'avg': {}, 'low': {}, 'high': {}, 'yearAgoEps': {}, 'numberOfAnalysts': {}, 'growth': {}}, 'revenueEstimate': {'avg': {}, 'low': {}, 'high': {}, 'numberOfAnalysts': {}, 'yearAgoRevenue': {}, 'growth': {}}, 'epsTrend': {'current': {}, '7daysAgo': {}, '30daysAgo': {}, '60daysAgo': {}, '90daysAgo': {}}, 'epsRevisions': {'upLast7days': {}, 'upLast30days': {}, 'downLast30days': {}, 'downLast90days': {}}}], 'maxAge': 1}, 'quoteType': {'exchange': 'NGM', 'shortName': 'Amarin Corporation plc', 'longName': 'Amarin Corporation plc', 'exchangeTimezoneName': 'America/New_York', 'exchangeTimezoneShortName': 'EDT', 'isEsgPopulated': False, 'gmtOffSetMilliseconds': '-14400000', 'quoteType': 'EQUITY', 'symbol': 'AMRN', 'messageBoardId': 'finmb_407863', 'market': 'us_market'}, 'sectorTrend': {'maxAge': 1, 'symbol': None, 'peRatio': {}, 'pegRatio': {}, 'estimates': []}, 'summaryDetail': {'previousClose': {'raw': 1.16, 'fmt': '1.1600'}, 'regularMarketOpen': {'raw': 1.15, 'fmt': '1.1500'}, 'twoHundredDayAverage': {'raw': 1.3964, 'fmt': '1.3964'}, 'trailingAnnualDividendYield': {'raw': 0, 'fmt': '0.00%'}, 'payoutRatio': {'raw': 0, 'fmt': '0.00%'}, 'volume24Hr': {}, 'regularMarketDayHigh': {'raw': 1.17, 'fmt': '1.1700'}, 'navPrice': {}, 'averageDailyVolume10Day': {'raw': 2084130, 'fmt': '2.08M', 'longFmt': '2,084,130'}, 'totalAssets': {}, 'regularMarketPreviousClose': {'raw': 1.16, 'fmt': '1.1600'}, 'fiftyDayAverage': {'raw': 1.2658, 'fmt': '1.2658'}, 'trailingAnnualDividendRate': {'raw': 0, 'fmt': '0.00'}, 'open': {'raw': 1.15, 'fmt': '1.1500'}, 'toCurrency': None, 'averageVolume10days': {'raw': 2084130, 'fmt': '2.08M', 'longFmt': '2,084,130'}, 'expireDate': {}, 'yield': {}, 'algorithm': None, 'dividendRate': {}, 'exDividendDate': {}, 'beta': {'raw': 1.78345, 'fmt': '1.78'}, 'circulatingSupply': {}, 'startDate': {}, 'regularMarketDayLow': {'raw': 1.11, 'fmt': '1.1100'}, 'priceHint': {'raw': 4, 'fmt': '4', 'longFmt': '4'}, 'currency': 'USD', 'regularMarketVolume': {'raw': 1207854, 'fmt': '1.21M', 'longFmt': '1,207,854'}, 'lastMarket': None, 'maxSupply': {}, 'openInterest': {}, 'marketCap': {'raw': 456713600, 'fmt': '456.71M', 'longFmt': '456,713,600'}, 'volumeAllCurrencies': {}, 'strikePrice': {}, 'averageVolume': {'raw': 2274540, 'fmt': '2.27M', 'longFmt': '2,274,540'}, 'priceToSalesTrailing12Months': {'raw': 1.2667558, 'fmt': '1.27'}, 'dayLow': {'raw': 1.11, 'fmt': '1.1100'}, 'ask': {'raw': 0, 'fmt': '0.0000'}, 'ytdReturn': {}, 'askSize': {'raw': 27000, 'fmt': '27k', 'longFmt': '27,000'}, 'volume': {'raw': 1207854, 'fmt': '1.21M', 'longFmt': '1,207,854'}, 'fiftyTwoWeekHigh': {'raw': 2.23, 'fmt': '2.2300'}, 'forwardPE': {'raw': -8, 'fmt': '-8.00'}, 'maxAge': 1, 'fromCurrency': None, 'fiveYearAvgDividendYield': {}, 'fiftyTwoWeekLow': {'raw': 1.04, 'fmt': '1.0400'}, 'bid': {'raw': 0, 'fmt': '0.0000'}, 'tradeable': False, 'dividendYield': {}, 'bidSize': {'raw': 900, 'fmt': '900', 'longFmt': '900'}, 'dayHigh': {'raw': 1.17, 'fmt': '1.1700'}, 'coinMarketCapLink': None}, 'symbol': 'AMRN', 'upgradeDowngradeHistory': {'history': [{'epochGradeDate': 1673000574, 'firm': 'Jefferies', 'toGrade': 'Buy', 'fromGrade': 'Hold', 'action': 'up'}, {'epochGradeDate': 1666175713, 'firm': 'SVB Leerink', 'toGrade': 'Market Perform', 'fromGrade': '', 'action': 'main'}, {'epochGradeDate': 1653391240, 'firm': 'Goldman Sachs', 'toGrade': 'Sell', 'fromGrade': '', 'action': 'main'}, {'epochGradeDate': 1651827113, 'firm': 'JP Morgan', 'toGrade': 'Underweight', 'fromGrade': 'Neutral', 'action': 'down'}, {'epochGradeDate': 1651747244, 'firm': 'HC Wainwright & Co.', 'toGrade': 'Neutral', 'fromGrade': 'Buy', 'action': 'down'}, {'epochGradeDate': 1651745119, 'firm': 'SVB Leerink', 'toGrade': 'Market Perform', 'fromGrade': 'Outperform', 'action': 'down'}, {'epochGradeDate': 1645006655, 'firm': 'SVB Leerink', 'toGrade': 'Outperform', 'fromGrade': '', 'action': 'main'}, {'epochGradeDate': 1643639948, 'firm': 'SVB Leerink', 'toGrade': 'Outperform', 'fromGrade': '', 'action': 'main'}, {'epochGradeDate': 1631184703, 'firm': 'SVB Leerink', 'toGrade': 'Outperform', 'fromGrade': '', 'action': 'init'}, {'epochGradeDate': 1620816711, 'firm': 'Goldman Sachs', 'toGrade': 'Sell', 'fromGrade': 'Neutral', 'action': 'down'}, {'epochGradeDate': 1612177851, 'firm': 'SVB Leerink', 'toGrade': 'Outperform', 'fromGrade': '', 'action': 'main'}, {'epochGradeDate': 1601287572, 'firm': 'SVB Leerink', 'toGrade': 'Outperform', 'fromGrade': '', 'action': 'main'}, {'epochGradeDate': 1598437603, 'firm': 'Piper Sandler', 'toGrade': 'Overweight', 'fromGrade': '', 'action': 'init'}, {'epochGradeDate': 1588598646, 'firm': 'Aegis Capital', 'toGrade': 'Buy', 'fromGrade': '', 'action': 'main'}, {'epochGradeDate': 1588587999, 'firm': 'SVB Leerink', 'toGrade': 'Outperform', 'fromGrade': '', 'action': 'main'}, {'epochGradeDate': 1585817240, 'firm': 'Citigroup', 'toGrade': 'Buy', 'fromGrade': '', 'action': 'main'}, {'epochGradeDate': 1585676067, 'firm': 'Stifel', 'toGrade': 'Hold', 'fromGrade': '', 'action': 'main'}, {'epochGradeDate': 1585659104, 'firm': 'Oppenheimer', 'toGrade': 'Perform', 'fromGrade': 'Underperform', 'action': 'up'}, {'epochGradeDate': 1585654209, 'firm': 'Goldman Sachs', 'toGrade': 'Neutral', 'fromGrade': 'Buy', 'action': 'down'}, {'epochGradeDate': 1585646345, 'firm': 'Jefferies', 'toGrade': 'Hold', 'fromGrade': 'Buy', 'action': 'down'}, {'epochGradeDate': 1584092487, 'firm': 'Goldman Sachs', 'toGrade': 'Buy', 'fromGrade': 'Neutral', 'action': 'up'}, {'epochGradeDate': 1583163508, 'firm': 'Cowen & Co.', 'toGrade': 'Outperform', 'fromGrade': '', 'action': 'init'}, {'epochGradeDate': 1582722640, 'firm': 'Oppenheimer', 'toGrade': 'Underperform', 'fromGrade': '', 'action': 'main'}, {'epochGradeDate': 1582022781, 'firm': 'Citigroup', 'toGrade': 'Buy', 'fromGrade': 'Neutral', 'action': 'up'}, {'epochGradeDate': 1578311412, 'firm': 'JP Morgan', 'toGrade': 'Neutral', 'fromGrade': '', 'action': 'init'}, {'epochGradeDate': 1576523549, 'firm': 'Oppenheimer', 'toGrade': 'Underperform', 'fromGrade': '', 'action': 'main'}, {'epochGradeDate': 1576508203, 'firm': 'Stifel', 'toGrade': 'Hold', 'fromGrade': 'Buy', 'action': 'down'}, {'epochGradeDate': 1574249344, 'firm': 'Oppenheimer', 'toGrade': 'Underperform', 'fromGrade': '', 'action': 'init'}, {'epochGradeDate': 1574080080, 'firm': 'Citi', 'toGrade': 'Neutral', 'fromGrade': 'Buy', 'action': 'down'}, {'epochGradeDate': 1572529285, 'firm': 'Aegis Capital', 'toGrade': 'Buy', 'fromGrade': '', 'action': 'init'}, {'epochGradeDate': 1571135970, 'firm': 'Goldman Sachs', 'toGrade': 'Neutral', 'fromGrade': '', 'action': 'init'}, {'epochGradeDate': 1553251840, 'firm': 'Stifel Nicolaus', 'toGrade': 'Buy', 'fromGrade': '', 'action': 'init'}, {'epochGradeDate': 1541164830, 'firm': 'Citigroup', 'toGrade': 'Neutral', 'fromGrade': 'Buy', 'action': 'down'}, {'epochGradeDate': 1539777585, 'firm': 'Citigroup', 'toGrade': 'Buy', 'fromGrade': 'Buy', 'action': 'main'}, {'epochGradeDate': 1537881077, 'firm': 'Jefferies', 'toGrade': 'Buy', 'fromGrade': 'Buy', 'action': 'main'}, {'epochGradeDate': 1537874265, 'firm': 'Citigroup', 'toGrade': 'Buy', 'fromGrade': 'Buy', 'action': 'main'}, {'epochGradeDate': 1476872074, 'firm': 'Citigroup', 'toGrade': 'Buy', 'fromGrade': '', 'action': 'init'}, {'epochGradeDate': 1475656296, 'firm': 'Cantor Fitzgerald', 'toGrade': 'Buy', 'fromGrade': '', 'action': 'init'}, {'epochGradeDate': 1475615452, 'firm': 'Cantor Fitzgerald', 'toGrade': 'Buy', 'fromGrade': '', 'action': 'init'}, {'epochGradeDate': 1463037254, 'firm': 'Jefferies', 'toGrade': 'Buy', 'fromGrade': '', 'action': 'init'}, {'epochGradeDate': 1426145107, 'firm': 'H.C. Wainwright', 'toGrade': 'Buy', 'fromGrade': '', 'action': 'up'}, {'epochGradeDate': 1424252755, 'firm': 'SunTrust Robinson Humphrey', 'toGrade': 'Buy', 'fromGrade': 'Neutral', 'action': 'up'}, {'epochGradeDate': 1415610000, 'firm': 'Citigroup', 'toGrade': 'Neutral', 'fromGrade': '', 'action': 'main'}, {'epochGradeDate': 1399879752, 'firm': 'Citigroup', 'toGrade': 'Neutral', 'fromGrade': 'Buy', 'action': 'down'}, {'epochGradeDate': 1393584370, 'firm': 'Aegis Capital', 'toGrade': 'Hold', 'fromGrade': '', 'action': 'main'}, {'epochGradeDate': 1389888000, 'firm': 'MKM Partners', 'toGrade': 'Neutral', 'fromGrade': 'Buy', 'action': 'down'}, {'epochGradeDate': 1383893330, 'firm': 'Citigroup', 'toGrade': 'Buy', 'fromGrade': 'Neutral', 'action': 'up'}, {'epochGradeDate': 1383148800, 'firm': 'Leerink Swann', 'toGrade': 'Market Perform', 'fromGrade': 'Outperform', 'action': 'down'}, {'epochGradeDate': 1383130853, 'firm': 'Aegis Capital', 'toGrade': 'Hold', 'fromGrade': '', 'action': 'main'}, {'epochGradeDate': 1382080843, 'firm': 'Citigroup', 'toGrade': 'Neutral', 'fromGrade': 'Buy', 'action': 'down'}, {'epochGradeDate': 1382025600, 'firm': 'H.C. Wainwright', 'toGrade': 'Neutral', 'fromGrade': 'Buy', 'action': 'down'}, {'epochGradeDate': 1381991178, 'firm': 'JP Morgan', 'toGrade': 'Neutral', 'fromGrade': 'Overweight', 'action': 'down'}, {'epochGradeDate': 1381990292, 'firm': 'Canaccord Genuity', 'toGrade': 'Hold', 'fromGrade': 'Buy', 'action': 'down'}, {'epochGradeDate': 1381943909, 'firm': 'Leerink Swann', 'toGrade': 'Outperform', 'fromGrade': '', 'action': 'main'}, {'epochGradeDate': 1381939883, 'firm': 'Aegis Capital', 'toGrade': 'Hold', 'fromGrade': 'Buy', 'action': 'down'}, {'epochGradeDate': 1379401701, 'firm': 'Goldman Sachs', 'toGrade': 'Neutral', 'fromGrade': '', 'action': 'init'}, {'epochGradeDate': 1378280947, 'firm': 'SunTrust Robinson Humphrey', 'toGrade': 'Buy', 'fromGrade': '', 'action': 'init'}, {'epochGradeDate': 1376378215, 'firm': 'H.C. Wainwright', 'toGrade': 'Buy', 'fromGrade': 'Neutral', 'action': 'up'}, {'epochGradeDate': 1371744899, 'firm': 'Oppenheimer', 'toGrade': 'Perform', 'fromGrade': '', 'action': 'init'}, {'epochGradeDate': 1362380154, 'firm': 'Citigroup', 'toGrade': 'Buy', 'fromGrade': '', 'action': 'main'}, {'epochGradeDate': 1357633828, 'firm': 'Jefferies', 'toGrade': 'Buy', 'fromGrade': '', 'action': 'main'}, {'epochGradeDate': 1354895044, 'firm': 'Aegis Capital', 'toGrade': 'Buy', 'fromGrade': '', 'action': 'main'}, {'epochGradeDate': 1354877921, 'firm': 'Canaccord Genuity', 'toGrade': 'Buy', 'fromGrade': '', 'action': 'main'}, {'epochGradeDate': 1354876024, 'firm': 'UBS', 'toGrade': 'Neutral', 'fromGrade': '', 'action': 'main'}, {'epochGradeDate': 1353999120, 'firm': 'Citigroup', 'toGrade': 'Buy', 'fromGrade': '', 'action': 'init'}, {'epochGradeDate': 1350293700, 'firm': 'JP Morgan', 'toGrade': 'Overweight', 'fromGrade': '', 'action': 'main'}, {'epochGradeDate': 1349248560, 'firm': 'Wedbush', 'toGrade': 'Neutral', 'fromGrade': 'Outperform', 'action': 'down'}, {'epochGradeDate': 1344507000, 'firm': 'Canaccord Genuity', 'toGrade': 'Buy', 'fromGrade': '', 'action': 'main'}, {'epochGradeDate': 1341812820, 'firm': 'Aegis Capital', 'toGrade': 'Buy', 'fromGrade': '', 'action': 'init'}, {'epochGradeDate': 1340780880, 'firm': 'Jefferies', 'toGrade': 'Buy', 'fromGrade': '', 'action': 'main'}], 'maxAge': 86400}, 'pageViews': {'shortTermTrend': 'UP', 'midTermTrend': 'UP', 'longTermTrend': 'UP', 'maxAge': 1}, 'industryTrend': {'maxAge': 1, 'symbol': None, 'peRatio': {}, 'pegRatio': {}, 'estimates': []}}\n"
          ]
        }
      ]
    },
    {
      "cell_type": "code",
      "source": [
        "import pandas as pd\n",
        "\n",
        "data = {\n",
        "    'recommendationTrend': {\n",
        "        'trend': [\n",
        "            {'period': '0m', 'strongBuy': 2, 'buy': 3, 'hold': 0, 'sell': 0, 'strongSell': 0},\n",
        "            {'period': '-1m', 'strongBuy': 1, 'buy': 1, 'hold': 2, 'sell': 2, 'strongSell': 0},\n",
        "            {'period': '-2m', 'strongBuy': 1, 'buy': 2, 'hold': 2, 'sell': 2, 'strongSell': 0},\n",
        "            {'period': '-3m', 'strongBuy': 2, 'buy': 3, 'hold': 0, 'sell': 0, 'strongSell': 0}\n",
        "        ],\n",
        "        'maxAge': 86400\n",
        "    },\n",
        "    'financialsTemplate': {\n",
        "        'code': 'N',\n",
        "        'maxAge': 1\n",
        "    },\n",
        "    'price': {\n",
        "        'quoteSourceName': 'Nasdaq Real Time Price',\n",
        "        'regularMarketOpen': {'raw': 1.15, 'fmt': '1.1500'},\n",
        "        'averageDailyVolume3Month': {'raw': 2274540, 'fmt': '2.27M', 'longFmt': '2,274,540'},\n",
        "        'exchange': 'NGM',\n",
        "        'regularMarketTime': 1687982405,\n",
        "        'volume24Hr': {},\n",
        "        'regularMarketDayHigh': {'raw': 1.17, 'fmt': '1.1700'},\n",
        "        'shortName': 'Amarin Corporation plc',\n",
        "        'averageDailyVolume10Day': {'raw': 2084130, 'fmt': '2.08M', 'longFmt': '2,084,130'},\n",
        "        'longName': 'Amarin Corporation plc',\n",
        "        'regularMarketChange': {'raw': -0.03999996, 'fmt': '-0.0400'},\n",
        "        'currencySymbol': '$',\n",
        "        'regularMarketPreviousClose': {'raw': 1.16, 'fmt': '1.1600'},\n",
        "        'postMarketTime': 1687996572,\n",
        "        'preMarketPrice': {},\n",
        "        'exchangeDataDelayedBy': 0,\n",
        "        'toCurrency': None,\n",
        "        'postMarketChange': {'raw': 0.00999999, 'fmt': '0.01'},\n",
        "        'postMarketPrice': {'raw': 1.13, 'fmt': '1.1300'},\n",
        "        'exchangeName': 'NasdaqGM',\n",
        "        'preMarketChange': {},\n",
        "        'circulatingSupply': {},\n",
        "        'regularMarketDayLow': {'raw': 1.11, 'fmt': '1.1100'},\n",
        "        'priceHint': {'raw': 4, 'fmt': '4', 'longFmt': '4'},\n",
        "        'currency': 'USD',\n",
        "        'regularMarketPrice': {'raw': 1.12, 'fmt': '1.1200'},\n",
        "        'regularMarketVolume': {'raw': 1207854, 'fmt': '1.21M', 'longFmt': '1,207,854.00'},\n",
        "        'lastMarket': None,\n",
        "        'regularMarketSource': 'FREE_REALTIME',\n",
        "        'openInterest': {},\n",
        "        'marketState': 'PREPRE',\n",
        "        'underlyingSymbol': None,\n",
        "        'marketCap': {'raw': 881899904, 'fmt': '881.9M', 'longFmt': '881,899,904'},\n",
        "        'quoteType': 'EQUITY',\n",
        "        'preMarketChangePercent': {},\n",
        "        'volumeAllCurrencies': {},\n",
        "        'postMarketSource': 'FREE_REALTIME',\n",
        "        'strikePrice': {},\n",
        "        'symbol': 'AMRN',\n",
        "        'maxAge': 1,\n",
        "        'fromCurrency': None,\n",
        "        'regularMarketChangePercent': {'raw': -0.03448276, 'fmt': '-3.4483%'}\n",
        "    }\n",
        "}\n",
        "\n",
        "# Extracting the 'recommendationTrend' data\n",
        "trend_data = data['recommendationTrend']['trend']\n",
        "\n",
        "# Creating a DataFrame from the 'trend' data\n",
        "df = pd.DataFrame(trend_data)\n",
        "\n",
        "# Displaying the resulting DataFrame\n",
        "print(df)\n"
      ],
      "metadata": {
        "colab": {
          "base_uri": "https://localhost:8080/"
        },
        "id": "rIMXsaGBJ4bI",
        "outputId": "9f4ca129-46e8-40b6-81c7-22f65a60f789"
      },
      "execution_count": 3,
      "outputs": [
        {
          "output_type": "stream",
          "name": "stdout",
          "text": [
            "  period  strongBuy  buy  hold  sell  strongSell\n",
            "0     0m          2    3     0     0           0\n",
            "1    -1m          1    1     2     2           0\n",
            "2    -2m          1    2     2     2           0\n",
            "3    -3m          2    3     0     0           0\n"
          ]
        }
      ]
    },
    {
      "cell_type": "code",
      "source": [
        "import pandas as pd\n",
        "from sklearn.model_selection import train_test_split\n",
        "from sklearn.linear_model import LinearRegression\n",
        "\n",
        "\n",
        "\n",
        "# Define the features (independent variables)\n",
        "features = ['buy', 'hold', 'sell', 'strongSell']\n",
        "\n",
        "# Define the target variable (dependent variable)\n",
        "target = 'strongBuy'\n",
        "\n",
        "# Split the data into training and testing sets\n",
        "X_train, X_test, y_train, y_test = train_test_split(df[features], df[target], test_size=0.2, random_state=42)\n",
        "\n",
        "# Train a linear regression model\n",
        "model = LinearRegression()\n",
        "model.fit(X_train, y_train)\n",
        "\n",
        "# Make predictions on the test set\n",
        "predictions = model.predict(X_test)\n",
        "\n",
        "# Display the predictions\n",
        "predictions_df = pd.DataFrame({'Actual': y_test, 'Predicted': predictions})\n",
        "print(predictions_df)\n"
      ],
      "metadata": {
        "colab": {
          "base_uri": "https://localhost:8080/"
        },
        "id": "Jnx4iSnrJ7PS",
        "outputId": "9f08b9d2-5763-4a4e-d830-f51e88d798ae"
      },
      "execution_count": 4,
      "outputs": [
        {
          "output_type": "stream",
          "name": "stdout",
          "text": [
            "   Actual  Predicted\n",
            "1       1   0.888889\n"
          ]
        }
      ]
    }
  ]
}